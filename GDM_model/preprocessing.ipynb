{
 "cells": [
  {
   "cell_type": "markdown",
   "id": "b66ffb71",
   "metadata": {},
   "source": [
    "## Run the cell below."
   ]
  },
  {
   "cell_type": "code",
   "execution_count": 1,
   "id": "f8764849",
   "metadata": {},
   "outputs": [],
   "source": [
    "from pcraster import *\n",
    "from pcraster.framework import *\n",
    "import os\n",
    "\n",
    "# Creating a pcraster map file for output discharge coordinates¶\n",
    "# set the paths to the input and output files\n",
    "coordinates_file = 'Measurementid.txt'\n",
    "mask_file = './Inputs/mask.map'\n",
    "output_file = 'Measurementid.map'\n",
    "\n",
    "# build the command string with the file paths\n",
    "command = ['col2map', '-N', coordinates_file, output_file, '--clone', mask_file]\n",
    "\n",
    "# execute the command using subprocess.run\n",
    "subprocess.run(command)"
   ]
  },
  {
   "cell_type": "code",
   "execution_count": null,
   "id": "cfec26b5",
   "metadata": {},
   "outputs": [],
   "source": [
    "    Run col2map -N \"Measurementid.txt\"  \"Measurementid.map\" --clone \"./Inputs/mask.map\"\n"
   ]
  }
 ],
 "metadata": {
  "kernelspec": {
   "display_name": "Python 3 (ipykernel)",
   "language": "python",
   "name": "python3"
  },
  "language_info": {
   "codemirror_mode": {
    "name": "ipython",
    "version": 3
   },
   "file_extension": ".py",
   "mimetype": "text/x-python",
   "name": "python",
   "nbconvert_exporter": "python",
   "pygments_lexer": "ipython3",
   "version": "3.10.9"
  }
 },
 "nbformat": 4,
 "nbformat_minor": 5
}
