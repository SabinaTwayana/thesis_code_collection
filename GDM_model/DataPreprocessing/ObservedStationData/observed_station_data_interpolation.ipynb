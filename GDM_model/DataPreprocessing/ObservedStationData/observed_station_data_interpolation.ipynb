{
 "cells": [
  {
   "cell_type": "markdown",
   "id": "51ba7366",
   "metadata": {},
   "source": [
    "## Converting observed station Data into PCraster Timeseries format."
   ]
  },
  {
   "cell_type": "code",
   "execution_count": null,
   "id": "a2c9efb5",
   "metadata": {},
   "outputs": [],
   "source": [
    "## run this cell once to install openpyxl\n",
    "!pip install openpyxl"
   ]
  },
  {
   "cell_type": "markdown",
   "id": "dc9fd718",
   "metadata": {},
   "source": [
    "## Provide Inputs in below."
   ]
  },
  {
   "cell_type": "code",
   "execution_count": 11,
   "id": "1305c7ee",
   "metadata": {},
   "outputs": [],
   "source": [
    "BaseTemperatureStationElevation= 724 # Provide elevation of Base temperature station(gorkha)\n",
    "HigestElevationTemperatureStation= 1725 # Provide elevation of temperature stations at higest availabe altitude(timure)"
   ]
  },
  {
   "cell_type": "markdown",
   "id": "f5650f13",
   "metadata": {},
   "source": [
    "###  In the next code cell, we will load the observed station data and convert it into pcraster timeseries format in the desired resolution as mask file. Run the cell below to execute this code. You can check Prec, Tmax, Tmin subfolders inside the main folder for the resultant data. The processing will take time depending on the amount of data and size of study area."
   ]
  },
  {
   "cell_type": "code",
   "execution_count": 12,
   "id": "c2a53413",
   "metadata": {},
   "outputs": [],
   "source": [
    "import warnings\n",
    "\n",
    "# Ignore deprecation warnings\n",
    "warnings.filterwarnings(\"ignore\", category=DeprecationWarning)\n",
    "\n",
    "\n",
    "# importing the required libraries\n",
    "import pandas as pd\n",
    "import numpy as np\n",
    "from pcraster import *\n",
    "from pcraster.framework import *\n",
    "os.chdir(\"D:/GDM Model-DISTRIBUTION PACK/GDM Model-DISTRIBUTION PACK/GDM Model/Data Preprocessing/Observed Station Data\")\n",
    "# importing Data\n",
    "df=pd.read_excel(\"Station Data budhigandaki.xlsx\",index_col=0)\n",
    "df['Date'] = pd.to_datetime(df['Date'])\n",
    "# Add a new column 'Month' to the DataFrame\n",
    "df['Month'] = df['Date'].dt.month\n",
    "\n",
    "# Group by month and calculate the average lapse rate for each month\n",
    "Tmax_monthly_lapse_rates = df.groupby('Month').apply(lambda x: ((x['Tmax1'] - x['Tmax2'])/(HigestElevationTemperatureStation-BaseTemperatureStationElevation)).mean())\n",
    "Tmin_monthly_lapse_rates = df.groupby('Month').apply(lambda x: ((x['Tmin1'] - x['Tmin2'])/(HigestElevationTemperatureStation-BaseTemperatureStationElevation)).mean())\n",
    "\n",
    "precColumns=[]\n",
    "for i in df.columns:\n",
    "    if i[:4]== \"prec\":\n",
    "        precColumns.append(i)\n",
    "\n",
    "NColumns= len(precColumns)+1                \n",
    "with open('ObservedPrecipitationTimeseriesData.tss', 'w') as f:\n",
    "    f.write(\"Observed Precipitation time series scaler data\")\n",
    "    f.write(\"\\n\")\n",
    "    f.write(str(NColumns))\n",
    "    f.write(\"\\n\")\n",
    "    f.write(\"timestep\")\n",
    "    f.write(\"\\n\")\n",
    "    for i in range(1,NColumns):\n",
    "        f.write(str(i))\n",
    "        f.write(\"\\n\")\n",
    "    for timestep in range(len(df)):\n",
    "        f.write(str(timestep+1)+' ')\n",
    "        for precColumn in precColumns:\n",
    "            f.write(str(df[precColumn][timestep])+ ' ')\n",
    "        f.write(str(\"\\n\"))\n",
    "# change the current working directory to GDM Training'\n",
    "# import os\n",
    "# os.chdir(\"..\")\n",
    "# os.chdir(\"..\")\n",
    "\n",
    "# # Creating a pcraster map file for station id coordinates¶\n",
    "# # set the paths to the input and output files\n",
    "# coordinates_file = './Data Preprocessing/Observed Station Data/stationid.txt'\n",
    "# mask_file = './Inputs/mask.map'\n",
    "# output_file = './Data Preprocessing/Observed Station Data/stationid.map'\n",
    "\n",
    "# # build the command string with the file paths\n",
    "# command = ['col2map', '-N', coordinates_file, output_file, '--clone', mask_file]\n",
    "\n",
    "# # execute the command using subprocess.run\n",
    "# subprocess.run(command)\n",
    "\n"
   ]
  },
  {
   "cell_type": "code",
   "execution_count": null,
   "id": "f210c171",
   "metadata": {},
   "outputs": [],
   "source": [
    "import os\n",
    "os.chdir(\"..\")\n",
    "os.chdir(\"..\")\n",
    "\n",
    "# Creating a pcraster map file for station id coordinates¶\n",
    "# set the paths to the input and output files\n",
    "coordinates_file = './Data Preprocessing/Observed Station Data/stationid.txt'\n",
    "mask_file = './Inputs/mask.map'\n",
    "output_file = './Data Preprocessing/Observed Station Data/stationid.map'\n",
    "\n",
    "# build the command string with the file paths\n",
    "command = ['col2map', '-N', coordinates_file, output_file, '--clone', mask_file]\n",
    "\n",
    "# execute the command using subprocess.run\n",
    "subprocess.run(command)\n",
    "\n",
    "    col2map -N \"./Data Preprocessing/Observed Station Data/stationid.txt\" \"./Data Preprocessing/Observed Station Data/stationid.map\" --clone \"./Inputs/mask.map\"\n",
    "\n",
    "\n"
   ]
  },
  {
   "cell_type": "code",
   "execution_count": 10,
   "id": "75ccde26",
   "metadata": {},
   "outputs": [
    {
     "name": "stdout",
     "output_type": "stream",
     "text": [
      "."
     ]
    },
    {
     "name": "stdout",
     "output_type": "stream",
     "text": [
      "..................................................................................................................................................................................................................................................................................................................................................................................................................................................................................................................................................................................................................................................................................................................................................................................................................................................................................................................................................................................................................................................................................................................................................................................................................................................................................................................................................................................................................................................................................................................................................................................................................................................................................................................................................................................................................................................................................................................................................................................................................................................................................................................................................................................................................................................................................................................................................................................................................................................................................................................................................................................................................................................................................................................................................................................................................................................................................................................................................................................................................................................................................................................................................................................................................................................................................................................................................................................................................................................................................................................................................................................................................................................................................................................................................................................................................................................................................................................................................................................................................................................................................................................................................................................................................................................................................................................................................................................................................................................................................................................................................................................................................................................................................................................................................................................................................................................................................................................................................................................................................................................................................................................................................................................................................................................................................................................................................................................................................................................................................................................................................................................................................................................................................................................................................................................................................................................................................................................................................................................................................................................................................."
     ]
    }
   ],
   "source": [
    "os.chdir(\"D:/GDM Model-DISTRIBUTION PACK/GDM Model-DISTRIBUTION PACK/GDM Model\")\n",
    "\n",
    "\n",
    "# interpolating using inverse distance weighting\n",
    "class InterpolateRainfall(DynamicModel):\n",
    "    def __init__(self, cloneMap):\n",
    "        DynamicModel.__init__(self)\n",
    "        setclone(cloneMap)\n",
    "    \n",
    "    def initial(self):\n",
    "        # Map with coordinates\n",
    "        self.coordinates = self.readmap(\"./Data Preprocessing/Observed Station Data/stationid\") \n",
    "        # Boolean mask for IDW \n",
    "        self.mask = self.readmap(\"./Inputs/mask\")            \n",
    "        # Dem for Temperature lapse rate\n",
    "        self.DEM= self.readmap(\"./Inputs/dem\")\n",
    "        #variable for tss file\n",
    "        self.precipTSS = \"./Data Preprocessing/Observed Station Data/ObservedPrecipitationTimeseriesData.tss\"      \n",
    "        #initializing incremental timestep \n",
    "        self.IncrementalTimestep= 1\n",
    "       \n",
    "    def dynamic(self):\n",
    "        Timestep=int(self.IncrementalTimestep)\n",
    "        # Reading precipitation at coordinates and make dynamic map stations\n",
    "        precipAtStation = timeinputscalar(self.precipTSS,self.coordinates)\n",
    "        #IDW interpolation\n",
    "        precipIDW = inversedistance(self.mask,precipAtStation,2,0,0)\n",
    "        \n",
    "        # Interpolating temperature using temperature lapse rate.\n",
    "        BTmax=df['Tmax1'][Timestep-1]-((self.DEM-BaseTemperatureStationElevation)*Tmax_monthly_lapse_rates[df[\"Month\"][Timestep-1]])\n",
    "        BTmin=df['Tmin1'][Timestep-1]-((self.DEM-BaseTemperatureStationElevation)*Tmin_monthly_lapse_rates[df[\"Month\"][Timestep-1]])\n",
    "        HTmax=df['Tmax1'][Timestep-1]-((self.DEM-BaseTemperatureStationElevation)*0.006)\n",
    "        HTmin=df['Tmin1'][Timestep-1]-((self.DEM-BaseTemperatureStationElevation)*0.006)   \n",
    "        \n",
    "        Tmax=ifthenelse(self.DEM < HigestElevationTemperatureStation, BTmax, HTmax)\n",
    "        Tmin=ifthenelse(self.DEM < HigestElevationTemperatureStation, BTmin, HTmin)\n",
    "        \n",
    "        self.IncrementalTimestep= self.IncrementalTimestep+1\n",
    "        \n",
    "        self.report(precipIDW,\"./Prec/prec\") ## provide path for the precipitation output\n",
    "        self.report(Tmax,\"./Tmax/tmax\")\n",
    "        self.report(Tmin,\"./Tmin/tmin\")\n",
    "myModel = InterpolateRainfall(\"D:/GDM Model-DISTRIBUTION PACK/GDM Model-DISTRIBUTION PACK/GDM Model/Inputs/mask.map\")\n",
    "dynModelFw = DynamicFramework(myModel, lastTimeStep=len(df), firstTimestep=1) ##Adjust first and last time step\n",
    "dynModelFw.run()\n",
    "os.chdir(\"./Data Preprocessing/Observed Station Data\")"
   ]
  },
  {
   "cell_type": "code",
   "execution_count": null,
   "id": "8091c20b-d8b3-4518-a64d-99fffaefec94",
   "metadata": {},
   "outputs": [],
   "source": []
  }
 ],
 "metadata": {
  "kernelspec": {
   "display_name": "Python 3 (ipykernel)",
   "language": "python",
   "name": "python3"
  },
  "language_info": {
   "codemirror_mode": {
    "name": "ipython",
    "version": 3
   },
   "file_extension": ".py",
   "mimetype": "text/x-python",
   "name": "python",
   "nbconvert_exporter": "python",
   "pygments_lexer": "ipython3",
   "version": "3.10.14"
  }
 },
 "nbformat": 4,
 "nbformat_minor": 5
}
