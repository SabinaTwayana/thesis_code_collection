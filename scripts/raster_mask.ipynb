{
 "cells": [
  {
   "cell_type": "code",
   "execution_count": null,
   "metadata": {},
   "outputs": [],
   "source": [
    "# !pip install rasterio\n",
    "!pip install geopandas"
   ]
  },
  {
   "cell_type": "code",
   "execution_count": null,
   "metadata": {},
   "outputs": [],
   "source": [
    "from rasterio.mask import mask\n",
    "import rasterio\n",
    "import geopandas as gpd"
   ]
  },
  {
   "cell_type": "code",
   "execution_count": null,
   "metadata": {},
   "outputs": [],
   "source": [
    "def cropraster(raster,geometry):\n",
    "    maska,transform=rasterio.mask.mask(raster, geometry, crop=True,nodata=0,all_touched=True,filled=True)\n",
    "    image=rasterio.features.rasterize(geometry, out_shape=maska.shape[1:],fill=0,all_touched=True,transform=transform)\n",
    "    len_ras=image.sum()\n",
    "    return maska,transform,len_ras"
   ]
  },
  {
   "cell_type": "code",
   "execution_count": 17,
   "metadata": {},
   "outputs": [],
   "source": [
    "input_raster_path=\"D:/dem file ku/clippedcatchmentdem.tif\"\n",
    "output_mask_path=\"D:/dem file ku/output_mask.tif\"\n",
    "input_shp_path=\"D:/dem file ku/catchment_gandaki_arughat.shp\"\n",
    "gdf = gpd.read_file(input_shp_path)\n",
    "raster_img=rasterio.open(input_raster_path)\n",
    "aoi_geometry = gdf.geometry.iloc[0]"
   ]
  },
  {
   "cell_type": "code",
   "execution_count": 19,
   "metadata": {},
   "outputs": [],
   "source": [
    "maska,transform,len_ras=cropraster(raster_img,[aoi_geometry])"
   ]
  },
  {
   "cell_type": "code",
   "execution_count": 26,
   "metadata": {},
   "outputs": [],
   "source": [
    "# Set up rasterio metadata\n",
    "height, width = raster_img.shape\n",
    "count = 1  # Number of bands\n",
    "dtype = raster_img.read ().dtype\n",
    "\n",
    "# Define rasterio profile\n",
    "profile = {\n",
    "    'driver': 'GTiff',\n",
    "    'height': height,\n",
    "    'width': width,\n",
    "    'count': count,\n",
    "    'dtype': dtype,\n",
    "    'transform': transform\n",
    "}\n",
    "\n",
    "# Write ndarray to GeoTIFF file\n",
    "with rasterio.open(output_mask_path, 'w', **profile) as dst:\n",
    "    dst.write(maska)  # Assuming single band data"
   ]
  }
 ],
 "metadata": {
  "kernelspec": {
   "display_name": "gdm_env",
   "language": "python",
   "name": "python3"
  },
  "language_info": {
   "codemirror_mode": {
    "name": "ipython",
    "version": 3
   },
   "file_extension": ".py",
   "mimetype": "text/x-python",
   "name": "python",
   "nbconvert_exporter": "python",
   "pygments_lexer": "ipython3",
   "version": "3.10.14"
  }
 },
 "nbformat": 4,
 "nbformat_minor": 2
}
